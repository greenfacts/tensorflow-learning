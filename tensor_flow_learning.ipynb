{
  "nbformat": 4,
  "nbformat_minor": 0,
  "metadata": {
    "colab": {
      "provenance": [],
      "gpuType": "T4"
    },
    "kernelspec": {
      "name": "python3",
      "display_name": "Python 3"
    },
    "language_info": {
      "name": "python"
    },
    "accelerator": "GPU"
  },
  "cells": [
    {
      "cell_type": "code",
      "execution_count": 1,
      "metadata": {
        "id": "oIvRTA8dnrsj"
      },
      "outputs": [],
      "source": [
        "import tensorflow as tf\n",
        "import numpy as np\n",
        "from tensorflow import keras"
      ]
    },
    {
      "cell_type": "markdown",
      "source": [
        "## Simple model (one layer)"
      ],
      "metadata": {
        "id": "Vjc5Ynvatr9x"
      }
    },
    {
      "cell_type": "code",
      "source": [
        "EPOCHS = 10 #200 # save time since playing around\n",
        "BATCH_SIZE = 128\n",
        "VERBOSE = 1\n",
        "NB_CLASSES = 10\n",
        "N_HIDDEN = 128\n",
        "VALIDATION_SPLIT = 0.2\n",
        "\n",
        "mnist = keras.datasets.mnist\n",
        "(X_train, Y_train), (X_test, Y_test) = mnist.load_data()\n",
        "RESHAPED = 784\n",
        "X_train = X_train.reshape(60000, RESHAPED)\n",
        "X_test = X_test.reshape(10000, RESHAPED)\n",
        "X_train = X_train.astype('float32')\n",
        "X_test = X_test.astype('float32')\n",
        "\n",
        "# normalize data to 1\n",
        "X_train /= 255\n",
        "X_test /= 255\n",
        "\n",
        "print(X_train.shape[0], 'train samples')\n",
        "print(X_test.shape[0], 'test samples')\n",
        "\n",
        "# One-hot-encode labels\n",
        "Y_train = tf.keras.utils.to_categorical(Y_train, NB_CLASSES)\n",
        "Y_test = tf.keras.utils.to_categorical(Y_test, NB_CLASSES)"
      ],
      "metadata": {
        "colab": {
          "base_uri": "https://localhost:8080/"
        },
        "id": "KopB-sfyqLeZ",
        "outputId": "91f6a2f1-11a1-4cc1-eb9e-1d4ca6070451"
      },
      "execution_count": 2,
      "outputs": [
        {
          "output_type": "stream",
          "name": "stdout",
          "text": [
            "Downloading data from https://storage.googleapis.com/tensorflow/tf-keras-datasets/mnist.npz\n",
            "11490434/11490434 [==============================] - 2s 0us/step\n",
            "60000 train samples\n",
            "10000 test samples\n"
          ]
        }
      ]
    },
    {
      "cell_type": "code",
      "source": [
        "model = tf.keras.models.Sequential()\n",
        "model.add(keras.layers.Dense(NB_CLASSES, input_shape=(RESHAPED,), name='dense_layer', activation='softmax'))"
      ],
      "metadata": {
        "id": "3JsC1ezXqxQI"
      },
      "execution_count": 9,
      "outputs": []
    },
    {
      "cell_type": "code",
      "source": [
        "model.compile(optimizer='SGD', loss='categorical_crossentropy', metrics=['accuracy'])"
      ],
      "metadata": {
        "id": "oOnJ4LD5rDGq"
      },
      "execution_count": 10,
      "outputs": []
    },
    {
      "cell_type": "code",
      "source": [
        "model.fit(X_train, Y_train, batch_size = BATCH_SIZE, epochs = EPOCHS, verbose=VERBOSE, validation_split=VALIDATION_SPLIT)"
      ],
      "metadata": {
        "colab": {
          "base_uri": "https://localhost:8080/"
        },
        "id": "aWzSAEnArRxh",
        "outputId": "9d1c2fae-14ea-4190-fe7b-5767cd929bef"
      },
      "execution_count": 11,
      "outputs": [
        {
          "output_type": "stream",
          "name": "stdout",
          "text": [
            "Epoch 1/10\n",
            "375/375 [==============================] - 2s 5ms/step - loss: 1.3684 - accuracy: 0.6711 - val_loss: 0.8853 - val_accuracy: 0.8244\n",
            "Epoch 2/10\n",
            "375/375 [==============================] - 1s 4ms/step - loss: 0.7915 - accuracy: 0.8256 - val_loss: 0.6539 - val_accuracy: 0.8581\n",
            "Epoch 3/10\n",
            "375/375 [==============================] - 1s 3ms/step - loss: 0.6435 - accuracy: 0.8483 - val_loss: 0.5601 - val_accuracy: 0.8698\n",
            "Epoch 4/10\n",
            "375/375 [==============================] - 1s 3ms/step - loss: 0.5714 - accuracy: 0.8598 - val_loss: 0.5076 - val_accuracy: 0.8784\n",
            "Epoch 5/10\n",
            "375/375 [==============================] - 1s 3ms/step - loss: 0.5275 - accuracy: 0.8671 - val_loss: 0.4742 - val_accuracy: 0.8832\n",
            "Epoch 6/10\n",
            "375/375 [==============================] - 1s 3ms/step - loss: 0.4972 - accuracy: 0.8725 - val_loss: 0.4502 - val_accuracy: 0.8867\n",
            "Epoch 7/10\n",
            "375/375 [==============================] - 1s 3ms/step - loss: 0.4748 - accuracy: 0.8766 - val_loss: 0.4321 - val_accuracy: 0.8901\n",
            "Epoch 8/10\n",
            "375/375 [==============================] - 1s 3ms/step - loss: 0.4574 - accuracy: 0.8804 - val_loss: 0.4181 - val_accuracy: 0.8918\n",
            "Epoch 9/10\n",
            "375/375 [==============================] - 1s 3ms/step - loss: 0.4434 - accuracy: 0.8828 - val_loss: 0.4066 - val_accuracy: 0.8947\n",
            "Epoch 10/10\n",
            "375/375 [==============================] - 1s 3ms/step - loss: 0.4318 - accuracy: 0.8852 - val_loss: 0.3973 - val_accuracy: 0.8953\n"
          ]
        },
        {
          "output_type": "execute_result",
          "data": {
            "text/plain": [
              "<keras.src.callbacks.History at 0x79e8e7ec9cf0>"
            ]
          },
          "metadata": {},
          "execution_count": 11
        }
      ]
    },
    {
      "cell_type": "code",
      "source": [
        "test_loss, test_accuracy = model.evaluate(X_test, Y_test)\n",
        "print('Test accuracy:', test_accuracy)\n",
        "print('Test loss:', test_loss)"
      ],
      "metadata": {
        "colab": {
          "base_uri": "https://localhost:8080/"
        },
        "id": "qhay6UslrkAz",
        "outputId": "fda6183a-e7a6-4819-9719-95042d7ffe8a"
      },
      "execution_count": 12,
      "outputs": [
        {
          "output_type": "stream",
          "name": "stdout",
          "text": [
            "313/313 [==============================] - 1s 2ms/step - loss: 0.4002 - accuracy: 0.8935\n",
            "Test accuracy: 0.8934999704360962\n",
            "Test loss: 0.4001735746860504\n"
          ]
        }
      ]
    },
    {
      "cell_type": "markdown",
      "source": [
        "## Slightly more complex model with multiple hidden layers"
      ],
      "metadata": {
        "id": "1lIHsCuEtxHC"
      }
    },
    {
      "cell_type": "code",
      "source": [
        "model = tf.keras.models.Sequential()\n",
        "model.add(keras.layers.Dense(N_HIDDEN, input_shape=(RESHAPED,), name='dense_layer', activation='relu'))\n",
        "model.add(keras.layers.Dense(N_HIDDEN, input_shape=(RESHAPED,), name='dense_layer2', activation='relu'))\n",
        "model.add(keras.layers.Dense(NB_CLASSES, input_shape=(RESHAPED,), name='softmax_layer', activation='softmax'))\n",
        "model.summary()"
      ],
      "metadata": {
        "colab": {
          "base_uri": "https://localhost:8080/"
        },
        "id": "ef04BHK6twgE",
        "outputId": "0fe39e24-edd8-4a4d-9025-b5124131e762"
      },
      "execution_count": 14,
      "outputs": [
        {
          "output_type": "stream",
          "name": "stdout",
          "text": [
            "Model: \"sequential_3\"\n",
            "_________________________________________________________________\n",
            " Layer (type)                Output Shape              Param #   \n",
            "=================================================================\n",
            " dense_layer (Dense)         (None, 128)               100480    \n",
            "                                                                 \n",
            " dense_layer2 (Dense)        (None, 128)               16512     \n",
            "                                                                 \n",
            " softmax_layer (Dense)       (None, 10)                1290      \n",
            "                                                                 \n",
            "=================================================================\n",
            "Total params: 118282 (462.04 KB)\n",
            "Trainable params: 118282 (462.04 KB)\n",
            "Non-trainable params: 0 (0.00 Byte)\n",
            "_________________________________________________________________\n"
          ]
        }
      ]
    },
    {
      "cell_type": "code",
      "source": [
        "model.compile(optimizer='SGD', loss='categorical_crossentropy', metrics=['accuracy'])\n",
        "model.fit(X_train, Y_train, batch_size = BATCH_SIZE, epochs = EPOCHS, verbose=VERBOSE, validation_split=VALIDATION_SPLIT)\n",
        "test_loss, test_accuracy = model.evaluate(X_test, Y_test)\n",
        "print('Test accuracy:', test_accuracy)\n",
        "print('Test loss:', test_loss)"
      ],
      "metadata": {
        "colab": {
          "base_uri": "https://localhost:8080/"
        },
        "id": "jsFDm9OcuUx6",
        "outputId": "091fc2cf-4848-49bf-8c97-54c5cf6ef141"
      },
      "execution_count": 15,
      "outputs": [
        {
          "output_type": "stream",
          "name": "stdout",
          "text": [
            "Epoch 1/10\n",
            "375/375 [==============================] - 2s 4ms/step - loss: 1.3971 - accuracy: 0.6330 - val_loss: 0.7108 - val_accuracy: 0.8362\n",
            "Epoch 2/10\n",
            "375/375 [==============================] - 1s 3ms/step - loss: 0.5829 - accuracy: 0.8520 - val_loss: 0.4501 - val_accuracy: 0.8840\n",
            "Epoch 3/10\n",
            "375/375 [==============================] - 1s 4ms/step - loss: 0.4354 - accuracy: 0.8816 - val_loss: 0.3719 - val_accuracy: 0.9005\n",
            "Epoch 4/10\n",
            "375/375 [==============================] - 2s 5ms/step - loss: 0.3775 - accuracy: 0.8947 - val_loss: 0.3365 - val_accuracy: 0.9078\n",
            "Epoch 5/10\n",
            "375/375 [==============================] - 1s 4ms/step - loss: 0.3440 - accuracy: 0.9037 - val_loss: 0.3122 - val_accuracy: 0.9141\n",
            "Epoch 6/10\n",
            "375/375 [==============================] - 1s 3ms/step - loss: 0.3208 - accuracy: 0.9091 - val_loss: 0.2936 - val_accuracy: 0.9175\n",
            "Epoch 7/10\n",
            "375/375 [==============================] - 1s 3ms/step - loss: 0.3030 - accuracy: 0.9144 - val_loss: 0.2797 - val_accuracy: 0.9202\n",
            "Epoch 8/10\n",
            "375/375 [==============================] - 1s 3ms/step - loss: 0.2883 - accuracy: 0.9185 - val_loss: 0.2682 - val_accuracy: 0.9237\n",
            "Epoch 9/10\n",
            "375/375 [==============================] - 1s 3ms/step - loss: 0.2755 - accuracy: 0.9221 - val_loss: 0.2600 - val_accuracy: 0.9262\n",
            "Epoch 10/10\n",
            "375/375 [==============================] - 1s 4ms/step - loss: 0.2646 - accuracy: 0.9249 - val_loss: 0.2495 - val_accuracy: 0.9286\n",
            "313/313 [==============================] - 1s 2ms/step - loss: 0.2493 - accuracy: 0.9276\n",
            "Test accuracy: 0.9276000261306763\n",
            "Test loss: 0.24928069114685059\n"
          ]
        }
      ]
    },
    {
      "cell_type": "markdown",
      "source": [
        "## Add (dropout) regularization to help the model generalize better"
      ],
      "metadata": {
        "id": "cS4C6xNDvauV"
      }
    },
    {
      "cell_type": "code",
      "source": [
        "DROPOUT = 0.2\n",
        "\n",
        "model = tf.keras.models.Sequential()\n",
        "model.add(keras.layers.Dense(N_HIDDEN, input_shape=(RESHAPED,), name='dense_layer', activation='relu'))\n",
        "model.add(keras.layers.Dropout(DROPOUT))\n",
        "model.add(keras.layers.Dense(N_HIDDEN, name='dense_layer2', activation='relu'))\n",
        "model.add(keras.layers.Dropout(DROPOUT))\n",
        "model.add(keras.layers.Dense(NB_CLASSES, name='softmax_layer', activation='softmax'))\n",
        "\n",
        "model.summary()\n",
        "\n",
        "model.compile(optimizer='SGD', loss='categorical_crossentropy', metrics=['accuracy'])\n",
        "model.fit(X_train, Y_train, batch_size = BATCH_SIZE, epochs = EPOCHS, verbose=VERBOSE, validation_split=VALIDATION_SPLIT)\n",
        "test_loss, test_accuracy = model.evaluate(X_test, Y_test)\n",
        "print('Test accuracy:', test_accuracy)\n",
        "print('Test loss:', test_loss)"
      ],
      "metadata": {
        "colab": {
          "base_uri": "https://localhost:8080/"
        },
        "id": "JUYfEu2evIE6",
        "outputId": "3d2cb122-b7e0-4135-9d6b-0a7be6c36a53"
      },
      "execution_count": 16,
      "outputs": [
        {
          "output_type": "stream",
          "name": "stdout",
          "text": [
            "Model: \"sequential_4\"\n",
            "_________________________________________________________________\n",
            " Layer (type)                Output Shape              Param #   \n",
            "=================================================================\n",
            " dense_layer (Dense)         (None, 128)               100480    \n",
            "                                                                 \n",
            " dropout (Dropout)           (None, 128)               0         \n",
            "                                                                 \n",
            " dense_layer2 (Dense)        (None, 128)               16512     \n",
            "                                                                 \n",
            " dropout_1 (Dropout)         (None, 128)               0         \n",
            "                                                                 \n",
            " softmax_layer (Dense)       (None, 10)                1290      \n",
            "                                                                 \n",
            "=================================================================\n",
            "Total params: 118282 (462.04 KB)\n",
            "Trainable params: 118282 (462.04 KB)\n",
            "Non-trainable params: 0 (0.00 Byte)\n",
            "_________________________________________________________________\n",
            "Epoch 1/10\n",
            "375/375 [==============================] - 4s 7ms/step - loss: 1.6606 - accuracy: 0.5026 - val_loss: 0.8509 - val_accuracy: 0.8196\n",
            "Epoch 2/10\n",
            "375/375 [==============================] - 1s 4ms/step - loss: 0.8134 - accuracy: 0.7598 - val_loss: 0.4962 - val_accuracy: 0.8746\n",
            "Epoch 3/10\n",
            "375/375 [==============================] - 1s 4ms/step - loss: 0.6074 - accuracy: 0.8171 - val_loss: 0.3993 - val_accuracy: 0.8928\n",
            "Epoch 4/10\n",
            "375/375 [==============================] - 1s 4ms/step - loss: 0.5140 - accuracy: 0.8464 - val_loss: 0.3512 - val_accuracy: 0.9002\n",
            "Epoch 5/10\n",
            "375/375 [==============================] - 2s 4ms/step - loss: 0.4650 - accuracy: 0.8619 - val_loss: 0.3219 - val_accuracy: 0.9076\n",
            "Epoch 6/10\n",
            "375/375 [==============================] - 2s 4ms/step - loss: 0.4263 - accuracy: 0.8745 - val_loss: 0.2999 - val_accuracy: 0.9133\n",
            "Epoch 7/10\n",
            "375/375 [==============================] - 1s 4ms/step - loss: 0.3988 - accuracy: 0.8820 - val_loss: 0.2823 - val_accuracy: 0.9183\n",
            "Epoch 8/10\n",
            "375/375 [==============================] - 1s 4ms/step - loss: 0.3760 - accuracy: 0.8891 - val_loss: 0.2691 - val_accuracy: 0.9212\n",
            "Epoch 9/10\n",
            "375/375 [==============================] - 2s 6ms/step - loss: 0.3580 - accuracy: 0.8953 - val_loss: 0.2575 - val_accuracy: 0.9249\n",
            "Epoch 10/10\n",
            "375/375 [==============================] - 2s 4ms/step - loss: 0.3405 - accuracy: 0.9023 - val_loss: 0.2455 - val_accuracy: 0.9283\n",
            "313/313 [==============================] - 1s 2ms/step - loss: 0.2433 - accuracy: 0.9292\n",
            "Test accuracy: 0.9291999936103821\n",
            "Test loss: 0.24333535134792328\n"
          ]
        }
      ]
    },
    {
      "cell_type": "markdown",
      "source": [
        "## Compare different optimizers"
      ],
      "metadata": {
        "id": "fMUrJYzRvsPK"
      }
    },
    {
      "cell_type": "code",
      "source": [
        "model.compile(optimizer='RMSProp', loss='categorical_crossentropy', metrics=['accuracy'])\n",
        "model.fit(X_train, Y_train, batch_size = BATCH_SIZE, epochs = EPOCHS, verbose=VERBOSE, validation_split=VALIDATION_SPLIT)\n",
        "test_loss, test_accuracy = model.evaluate(X_test, Y_test)\n",
        "print('Test accuracy:', test_accuracy)\n",
        "print('Test loss:', test_loss)"
      ],
      "metadata": {
        "colab": {
          "base_uri": "https://localhost:8080/"
        },
        "id": "38glxRuWvubM",
        "outputId": "3572ffc6-2d84-40b5-9980-fc23d4f62f40"
      },
      "execution_count": 17,
      "outputs": [
        {
          "output_type": "stream",
          "name": "stdout",
          "text": [
            "Epoch 1/10\n",
            "375/375 [==============================] - 2s 4ms/step - loss: 0.2562 - accuracy: 0.9226 - val_loss: 0.1403 - val_accuracy: 0.9578\n",
            "Epoch 2/10\n",
            "375/375 [==============================] - 2s 4ms/step - loss: 0.1640 - accuracy: 0.9508 - val_loss: 0.1135 - val_accuracy: 0.9663\n",
            "Epoch 3/10\n",
            "375/375 [==============================] - 1s 4ms/step - loss: 0.1273 - accuracy: 0.9611 - val_loss: 0.0969 - val_accuracy: 0.9707\n",
            "Epoch 4/10\n",
            "375/375 [==============================] - 2s 5ms/step - loss: 0.1089 - accuracy: 0.9665 - val_loss: 0.0943 - val_accuracy: 0.9722\n",
            "Epoch 5/10\n",
            "375/375 [==============================] - 2s 5ms/step - loss: 0.0947 - accuracy: 0.9709 - val_loss: 0.0943 - val_accuracy: 0.9728\n",
            "Epoch 6/10\n",
            "375/375 [==============================] - 1s 3ms/step - loss: 0.0855 - accuracy: 0.9737 - val_loss: 0.0826 - val_accuracy: 0.9749\n",
            "Epoch 7/10\n",
            "375/375 [==============================] - 1s 4ms/step - loss: 0.0774 - accuracy: 0.9760 - val_loss: 0.0944 - val_accuracy: 0.9737\n",
            "Epoch 8/10\n",
            "375/375 [==============================] - 1s 3ms/step - loss: 0.0702 - accuracy: 0.9779 - val_loss: 0.0923 - val_accuracy: 0.9753\n",
            "Epoch 9/10\n",
            "375/375 [==============================] - 1s 3ms/step - loss: 0.0640 - accuracy: 0.9801 - val_loss: 0.0818 - val_accuracy: 0.9793\n",
            "Epoch 10/10\n",
            "375/375 [==============================] - 1s 4ms/step - loss: 0.0595 - accuracy: 0.9816 - val_loss: 0.0956 - val_accuracy: 0.9772\n",
            "313/313 [==============================] - 1s 2ms/step - loss: 0.0781 - accuracy: 0.9780\n",
            "Test accuracy: 0.9779999852180481\n",
            "Test loss: 0.0780840739607811\n"
          ]
        }
      ]
    },
    {
      "cell_type": "code",
      "source": [
        "model.compile(optimizer='Adam', loss='categorical_crossentropy', metrics=['accuracy'])\n",
        "model.fit(X_train, Y_train, batch_size = BATCH_SIZE, epochs = EPOCHS, verbose=VERBOSE, validation_split=VALIDATION_SPLIT)\n",
        "test_loss, test_accuracy = model.evaluate(X_test, Y_test)\n",
        "print('Test accuracy:', test_accuracy)\n",
        "print('Test loss:', test_loss)"
      ],
      "metadata": {
        "colab": {
          "base_uri": "https://localhost:8080/"
        },
        "outputId": "4765eb6f-06a8-401f-d6d2-d144484429d6",
        "id": "1Np5TaMjwDUB"
      },
      "execution_count": 18,
      "outputs": [
        {
          "output_type": "stream",
          "name": "stdout",
          "text": [
            "Epoch 1/10\n",
            "375/375 [==============================] - 3s 5ms/step - loss: 0.0613 - accuracy: 0.9810 - val_loss: 0.0820 - val_accuracy: 0.9778\n",
            "Epoch 2/10\n",
            "375/375 [==============================] - 1s 4ms/step - loss: 0.0564 - accuracy: 0.9816 - val_loss: 0.0876 - val_accuracy: 0.9778\n",
            "Epoch 3/10\n",
            "375/375 [==============================] - 1s 4ms/step - loss: 0.0507 - accuracy: 0.9834 - val_loss: 0.0816 - val_accuracy: 0.9783\n",
            "Epoch 4/10\n",
            "375/375 [==============================] - 1s 4ms/step - loss: 0.0454 - accuracy: 0.9850 - val_loss: 0.0861 - val_accuracy: 0.9772\n",
            "Epoch 5/10\n",
            "375/375 [==============================] - 1s 4ms/step - loss: 0.0448 - accuracy: 0.9854 - val_loss: 0.0830 - val_accuracy: 0.9783\n",
            "Epoch 6/10\n",
            "375/375 [==============================] - 1s 4ms/step - loss: 0.0415 - accuracy: 0.9864 - val_loss: 0.0807 - val_accuracy: 0.9792\n",
            "Epoch 7/10\n",
            "375/375 [==============================] - 2s 5ms/step - loss: 0.0370 - accuracy: 0.9879 - val_loss: 0.0811 - val_accuracy: 0.9790\n",
            "Epoch 8/10\n",
            "375/375 [==============================] - 2s 5ms/step - loss: 0.0352 - accuracy: 0.9885 - val_loss: 0.0881 - val_accuracy: 0.9779\n",
            "Epoch 9/10\n",
            "375/375 [==============================] - 1s 4ms/step - loss: 0.0377 - accuracy: 0.9871 - val_loss: 0.0797 - val_accuracy: 0.9796\n",
            "Epoch 10/10\n",
            "375/375 [==============================] - 2s 4ms/step - loss: 0.0341 - accuracy: 0.9888 - val_loss: 0.0871 - val_accuracy: 0.9795\n",
            "313/313 [==============================] - 1s 2ms/step - loss: 0.0789 - accuracy: 0.9795\n",
            "Test accuracy: 0.9794999957084656\n",
            "Test loss: 0.07894787937402725\n"
          ]
        }
      ]
    },
    {
      "cell_type": "code",
      "source": [
        "## Explore the model"
      ],
      "metadata": {
        "id": "Cer3ZxE1w0rI"
      },
      "execution_count": 24,
      "outputs": []
    },
    {
      "cell_type": "code",
      "source": [
        "output = model.predict(X_test[:1])\n",
        "print(output)"
      ],
      "metadata": {
        "colab": {
          "base_uri": "https://localhost:8080/"
        },
        "id": "5z0wXxjBwjEL",
        "outputId": "0a58d10f-4ddf-465b-9321-6e3907524273"
      },
      "execution_count": 26,
      "outputs": [
        {
          "output_type": "stream",
          "name": "stdout",
          "text": [
            "1/1 [==============================] - 0s 30ms/step\n",
            "[[4.5838406e-11 3.7326120e-07 3.2850041e-06 2.4980498e-05 3.5918917e-11\n",
            "  5.3319554e-10 1.0381177e-14 9.9997127e-01 1.3140560e-08 1.3108875e-07]]\n"
          ]
        }
      ]
    },
    {
      "cell_type": "code",
      "source": [
        "np.argmax(output)"
      ],
      "metadata": {
        "colab": {
          "base_uri": "https://localhost:8080/"
        },
        "id": "Ieyd_LFsxQy9",
        "outputId": "ab5fd2c6-a72c-4b8d-b891-18cda1b6d4e7"
      },
      "execution_count": 27,
      "outputs": [
        {
          "output_type": "execute_result",
          "data": {
            "text/plain": [
              "7"
            ]
          },
          "metadata": {},
          "execution_count": 27
        }
      ]
    },
    {
      "cell_type": "code",
      "source": [
        "import matplotlib.pyplot as plt\n",
        "\n",
        "plt.imshow(X_test[0].reshape(28, 28))\n",
        "plt.show()"
      ],
      "metadata": {
        "colab": {
          "base_uri": "https://localhost:8080/",
          "height": 430
        },
        "id": "Ex3Qkqrsw3JI",
        "outputId": "8757dad6-0384-469f-aab6-4230e5590db6"
      },
      "execution_count": 25,
      "outputs": [
        {
          "output_type": "display_data",
          "data": {
            "text/plain": [
              "<Figure size 640x480 with 1 Axes>"
            ],
            "image/png": "[encoded data removed]"
          },
          "metadata": {}
        }
      ]
    }
  ]
}